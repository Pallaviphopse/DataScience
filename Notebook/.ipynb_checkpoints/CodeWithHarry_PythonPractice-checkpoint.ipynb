{
 "cells": [
  {
   "cell_type": "markdown",
   "id": "17279452",
   "metadata": {},
   "source": [
    "# PYTHON PRACTICE       9-12-2021"
   ]
  },
  {
   "cell_type": "code",
   "execution_count": 4,
   "id": "ced861d0",
   "metadata": {},
   "outputs": [],
   "source": [
    "#pip : package manager"
   ]
  },
  {
   "cell_type": "code",
   "execution_count": 5,
   "id": "4326656c",
   "metadata": {},
   "outputs": [],
   "source": [
    "# ctrl+forward slash Using MultilineComment"
   ]
  },
  {
   "cell_type": "code",
   "execution_count": 6,
   "id": "a1969960",
   "metadata": {},
   "outputs": [
    {
     "name": "stdout",
     "output_type": "stream",
     "text": [
      "hello word\n"
     ]
    }
   ],
   "source": [
    "print(\"hello word\")"
   ]
  },
  {
   "cell_type": "code",
   "execution_count": 9,
   "id": "9c41a115",
   "metadata": {},
   "outputs": [
    {
     "name": "stdout",
     "output_type": "stream",
     "text": [
      "hello word\n"
     ]
    }
   ],
   "source": [
    "import pandas  as pd\n",
    "print(\"hello word\")"
   ]
  },
  {
   "cell_type": "code",
   "execution_count": null,
   "id": "928bcd32",
   "metadata": {},
   "outputs": [],
   "source": [
    "# print(\"hello word\", end = \",\") #end= \"\" = end used to space in two print statement also coma , dash...\n",
    "print(\"word\")"
   ]
  },
  {
   "cell_type": "code",
   "execution_count": 26,
   "id": "f91e13fa",
   "metadata": {},
   "outputs": [
    {
     "name": "stdout",
     "output_type": "stream",
     "text": [
      "welcome to \n",
      "Python Programming\n"
     ]
    }
   ],
   "source": [
    "print(\"welcome to\",\"\\nPython Programming\") #\\n Using Print Statement in New Line "
   ]
  },
  {
   "cell_type": "code",
   "execution_count": 27,
   "id": "d979c269",
   "metadata": {},
   "outputs": [],
   "source": [
    "#Escape Sequence Characters "
   ]
  },
  {
   "cell_type": "code",
   "execution_count": 30,
   "id": "7e51fed2",
   "metadata": {},
   "outputs": [
    {
     "name": "stdout",
     "output_type": "stream",
     "text": [
      "hello \n",
      " word\t python\n"
     ]
    }
   ],
   "source": [
    " print(\"hello \\n word\\t python\") # \\t = tab space"
   ]
  },
  {
   "cell_type": "markdown",
   "id": "97edecd6",
   "metadata": {},
   "source": [
    "# VARIABLES"
   ]
  },
  {
   "cell_type": "code",
   "execution_count": 39,
   "id": "f7399ce0",
   "metadata": {},
   "outputs": [
    {
     "name": "stdout",
     "output_type": "stream",
     "text": [
      "<class 'int'>\n",
      "<class 'float'>\n",
      "<class 'str'>\n"
     ]
    }
   ],
   "source": [
    "var1 = 10\n",
    "var2 = 20\n",
    "var3 = 30.9\n",
    "var4 = \"Pallavi\"\n",
    "print(type(var1))\n",
    "print(type(var3))\n",
    "print(type(var4))\n",
    "\n"
   ]
  },
  {
   "cell_type": "code",
   "execution_count": 40,
   "id": "274b083f",
   "metadata": {},
   "outputs": [
    {
     "ename": "TypeError",
     "evalue": "unsupported operand type(s) for +: 'int' and 'str'",
     "output_type": "error",
     "traceback": [
      "\u001b[1;31m---------------------------------------------------------------------------\u001b[0m",
      "\u001b[1;31mTypeError\u001b[0m                                 Traceback (most recent call last)",
      "\u001b[1;32m~\\AppData\\Local\\Temp/ipykernel_4804/1574790285.py\u001b[0m in \u001b[0;36m<module>\u001b[1;34m\u001b[0m\n\u001b[1;32m----> 1\u001b[1;33m \u001b[0mprint\u001b[0m \u001b[1;33m(\u001b[0m\u001b[0mvar1\u001b[0m \u001b[1;33m+\u001b[0m \u001b[0mvar4\u001b[0m\u001b[1;33m)\u001b[0m\u001b[1;33m\u001b[0m\u001b[1;33m\u001b[0m\u001b[0m\n\u001b[0m",
      "\u001b[1;31mTypeError\u001b[0m: unsupported operand type(s) for +: 'int' and 'str'"
     ]
    }
   ],
   "source": [
    " print (var1 + var4) # int +string is not possible "
   ]
  },
  {
   "cell_type": "code",
   "execution_count": 59,
   "id": "9e50d7ef",
   "metadata": {},
   "outputs": [
    {
     "name": "stdout",
     "output_type": "stream",
     "text": [
      "10Pallavi10Pallavi10Pallavi10Pallavi10Pallavi10Pallavi10Pallavi10Pallavi10Pallavi10Pallavi\n"
     ]
    }
   ],
   "source": [
    "print( 10 *( str(var1) + (var4)) ) # str cannot be convert into int or int csn convert in str"
   ]
  },
  {
   "cell_type": "code",
   "execution_count": 44,
   "id": "4f235d97",
   "metadata": {},
   "outputs": [
    {
     "name": "stdout",
     "output_type": "stream",
     "text": [
      "\n",
      " hello word\n",
      " hello word\n",
      " hello word\n",
      " hello word\n",
      " hello word\n",
      " hello word\n",
      " hello word\n",
      " hello word\n",
      " hello word\n",
      " hello word\n",
      " hello word\n",
      " hello word\n",
      " hello word\n",
      " hello word\n",
      " hello word\n",
      " hello word\n",
      " hello word\n",
      " hello word\n",
      " hello word\n",
      " hello word\n",
      " hello word\n",
      " hello word\n",
      " hello word\n",
      " hello word\n",
      " hello word\n",
      " hello word\n",
      " hello word\n",
      " hello word\n",
      " hello word\n",
      " hello word\n",
      " hello word\n",
      " hello word\n",
      " hello word\n",
      " hello word\n",
      " hello word\n",
      " hello word\n",
      " hello word\n",
      " hello word\n",
      " hello word\n",
      " hello word\n",
      " hello word\n",
      " hello word\n",
      " hello word\n",
      " hello word\n",
      " hello word\n",
      " hello word\n",
      " hello word\n",
      " hello word\n",
      " hello word\n",
      " hello word\n",
      " hello word\n",
      " hello word\n",
      " hello word\n",
      " hello word\n",
      " hello word\n",
      " hello word\n",
      " hello word\n",
      " hello word\n",
      " hello word\n",
      " hello word\n",
      " hello word\n",
      " hello word\n",
      " hello word\n",
      " hello word\n",
      " hello word\n",
      " hello word\n",
      " hello word\n",
      " hello word\n",
      " hello word\n",
      " hello word\n",
      " hello word\n",
      " hello word\n",
      " hello word\n",
      " hello word\n",
      " hello word\n",
      " hello word\n",
      " hello word\n",
      " hello word\n",
      " hello word\n",
      " hello word\n",
      " hello word\n",
      " hello word\n",
      " hello word\n",
      " hello word\n",
      " hello word\n",
      " hello word\n",
      " hello word\n",
      " hello word\n",
      " hello word\n",
      " hello word\n",
      " hello word\n",
      " hello word\n",
      " hello word\n",
      " hello word\n",
      " hello word\n",
      " hello word\n",
      " hello word\n",
      " hello word\n",
      " hello word\n",
      " hello word\n"
     ]
    }
   ],
   "source": [
    "print(100 * \"\\n hello word\")"
   ]
  },
  {
   "cell_type": "code",
   "execution_count": 81,
   "id": "e225cb4b",
   "metadata": {},
   "outputs": [
    {
     "name": "stdout",
     "output_type": "stream",
     "text": [
      "120\n"
     ]
    }
   ],
   "source": [
    "print ( 10 * int(var1) + int(var2))"
   ]
  },
  {
   "cell_type": "markdown",
   "id": "4ca5e7d2",
   "metadata": {},
   "source": [
    "# TAKING INPUT FROM USER"
   ]
  },
  {
   "cell_type": "code",
   "execution_count": 106,
   "id": "99f4cd64",
   "metadata": {},
   "outputs": [
    {
     "name": "stdout",
     "output_type": "stream",
     "text": [
      "Enter the value\n",
      "10\n",
      "you  enterd 20\n"
     ]
    }
   ],
   "source": [
    "print(\"Enter the value\")\n",
    "ipnum = input()\n",
    "\n",
    "print(\"you  enterd\" ,int(ipnum)+10)\n",
    "\n"
   ]
  },
  {
   "cell_type": "code",
   "execution_count": 114,
   "id": "65deec79",
   "metadata": {},
   "outputs": [
    {
     "name": "stdout",
     "output_type": "stream",
     "text": [
      "Enter The Value\n",
      "10\n",
      "Enter the value\n",
      "20\n",
      " addition is 30\n",
      "Enter the first number\n",
      "20\n",
      "Enter the second number\n",
      "20\n",
      "substraction is  0\n"
     ]
    }
   ],
   "source": [
    "print(\"Enter The Value\")\n",
    "a = input()\n",
    "print(\"Enter the value\")\n",
    "b = input()\n",
    "c = int(a) + int(b)\n",
    "print(\" addition is\",c)\n",
    "\n",
    "#OR\n",
    "print(\"Enter the first number\")\n",
    "a = input()\n",
    "print(\"Enter the second number\")\n",
    "b =input()\n",
    "print(\"substraction is \", int(a) - int(b))"
   ]
  },
  {
   "cell_type": "markdown",
   "id": "4c6a56a4",
   "metadata": {},
   "source": [
    "\n",
    "# STRING"
   ]
  },
  {
   "cell_type": "code",
   "execution_count": 152,
   "id": "ac3bb8e9",
   "metadata": {},
   "outputs": [
    {
     "name": "stdout",
     "output_type": "stream",
     "text": [
      "a sattu is a good boy\n",
      "21\n"
     ]
    }
   ],
   "source": [
    "str1 = \"a sattu is a good boy\"\n",
    "print(str1)\n",
    "print(len(str1))\n",
    "# print(str1.capitalize())"
   ]
  },
  {
   "cell_type": "code",
   "execution_count": 153,
   "id": "7837083f",
   "metadata": {},
   "outputs": [
    {
     "name": "stdout",
     "output_type": "stream",
     "text": [
      "t\n"
     ]
    }
   ],
   "source": [
    "print(str1[5])"
   ]
  },
  {
   "cell_type": "code",
   "execution_count": 154,
   "id": "12c33549",
   "metadata": {},
   "outputs": [
    {
     "name": "stdout",
     "output_type": "stream",
     "text": [
      "a satt\n"
     ]
    }
   ],
   "source": [
    "print(str1[0:6]) #STRING SLICING"
   ]
  },
  {
   "cell_type": "code",
   "execution_count": 155,
   "id": "c0b2eb39",
   "metadata": {},
   "outputs": [
    {
     "name": "stdout",
     "output_type": "stream",
     "text": [
      " boy\n"
     ]
    }
   ],
   "source": [
    "print(str1[-4:])"
   ]
  },
  {
   "cell_type": "code",
   "execution_count": 156,
   "id": "f85d420e",
   "metadata": {},
   "outputs": [
    {
     "name": "stdout",
     "output_type": "stream",
     "text": [
      "yob doog a si uttas a\n"
     ]
    }
   ],
   "source": [
    "print(str1[::-1]) #REVERSE STRING"
   ]
  },
  {
   "cell_type": "code",
   "execution_count": 157,
   "id": "8a1bc5cb",
   "metadata": {},
   "outputs": [
    {
     "name": "stdout",
     "output_type": "stream",
     "text": [
      "False\n"
     ]
    }
   ],
   "source": [
    "print(str1.isalnum()) #is alpha num"
   ]
  },
  {
   "cell_type": "code",
   "execution_count": 158,
   "id": "7e0896e2",
   "metadata": {},
   "outputs": [
    {
     "name": "stdout",
     "output_type": "stream",
     "text": [
      "True\n"
     ]
    }
   ],
   "source": [
    "print(str1.endswith(\"boy\")) "
   ]
  },
  {
   "cell_type": "code",
   "execution_count": 159,
   "id": "787a6564",
   "metadata": {},
   "outputs": [
    {
     "name": "stdout",
     "output_type": "stream",
     "text": [
      "3\n"
     ]
    }
   ],
   "source": [
    "print(str1.count(\"o\"))"
   ]
  },
  {
   "cell_type": "code",
   "execution_count": 160,
   "id": "b035d8a8",
   "metadata": {},
   "outputs": [
    {
     "name": "stdout",
     "output_type": "stream",
     "text": [
      "A sattu is a good boy\n"
     ]
    }
   ],
   "source": [
    "print(str1.capitalize())\n"
   ]
  },
  {
   "cell_type": "code",
   "execution_count": 161,
   "id": "629be24b",
   "metadata": {},
   "outputs": [
    {
     "name": "stdout",
     "output_type": "stream",
     "text": [
      "a sattu is a good boy\n"
     ]
    }
   ],
   "source": [
    "print(str1.lower()) #str in small letter"
   ]
  },
  {
   "cell_type": "code",
   "execution_count": 162,
   "id": "7b992f12",
   "metadata": {},
   "outputs": [
    {
     "name": "stdout",
     "output_type": "stream",
     "text": [
      "A SATTU IS A GOOD BOY\n"
     ]
    }
   ],
   "source": [
    "print(str1.upper())  #str in capital letter"
   ]
  },
  {
   "cell_type": "code",
   "execution_count": 163,
   "id": "988decf5",
   "metadata": {},
   "outputs": [
    {
     "name": "stdout",
     "output_type": "stream",
     "text": [
      "astui  odb\n"
     ]
    }
   ],
   "source": [
    "print(str1[0:20:2])"
   ]
  },
  {
   "cell_type": "code",
   "execution_count": 164,
   "id": "91ea3067",
   "metadata": {},
   "outputs": [
    {
     "name": "stdout",
     "output_type": "stream",
     "text": [
      "a sattu is a good boy\n"
     ]
    }
   ],
   "source": [
    "print(str1[::])"
   ]
  },
  {
   "cell_type": "code",
   "execution_count": 165,
   "id": "3b0500ec",
   "metadata": {},
   "outputs": [
    {
     "name": "stdout",
     "output_type": "stream",
     "text": [
      "a\n"
     ]
    }
   ],
   "source": [
    "print(str1[::2599])"
   ]
  },
  {
   "cell_type": "code",
   "execution_count": 129,
   "id": "07502842",
   "metadata": {},
   "outputs": [
    {
     "name": "stdout",
     "output_type": "stream",
     "text": [
      " b\n"
     ]
    }
   ],
   "source": [
    "print(str[-4:-2])"
   ]
  },
  {
   "cell_type": "code",
   "execution_count": 166,
   "id": "f31684fa",
   "metadata": {},
   "outputs": [
    {
     "name": "stdout",
     "output_type": "stream",
     "text": [
      "yob doog a si uttas a\n"
     ]
    }
   ],
   "source": [
    "print(str1[::-1]) #REVERSE STRING"
   ]
  },
  {
   "cell_type": "code",
   "execution_count": 167,
   "id": "be15ad80",
   "metadata": {},
   "outputs": [
    {
     "name": "stdout",
     "output_type": "stream",
     "text": [
      "ybdo  iutsa\n"
     ]
    }
   ],
   "source": [
    "print(str1[::-2])"
   ]
  },
  {
   "cell_type": "code",
   "execution_count": 148,
   "id": "f01b1b1e",
   "metadata": {},
   "outputs": [
    {
     "name": "stdout",
     "output_type": "stream",
     "text": [
      "Sattu is good boy\n"
     ]
    }
   ],
   "source": [
    "#str1 = \"sattu is good boy\"\n",
    "print(str1.capitalize())"
   ]
  },
  {
   "cell_type": "code",
   "execution_count": 169,
   "id": "4de277c6",
   "metadata": {},
   "outputs": [
    {
     "name": "stdout",
     "output_type": "stream",
     "text": [
      "a sattu are a good boy\n"
     ]
    }
   ],
   "source": [
    "print(str1.replace(\"is\",\"are\"))"
   ]
  },
  {
   "cell_type": "code",
   "execution_count": null,
   "id": "eca4af97",
   "metadata": {},
   "outputs": [],
   "source": []
  }
 ],
 "metadata": {
  "kernelspec": {
   "display_name": "Python 3 (ipykernel)",
   "language": "python",
   "name": "python3"
  },
  "language_info": {
   "codemirror_mode": {
    "name": "ipython",
    "version": 3
   },
   "file_extension": ".py",
   "mimetype": "text/x-python",
   "name": "python",
   "nbconvert_exporter": "python",
   "pygments_lexer": "ipython3",
   "version": "3.9.7"
  }
 },
 "nbformat": 4,
 "nbformat_minor": 5
}
